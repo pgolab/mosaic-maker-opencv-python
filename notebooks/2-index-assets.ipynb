{
 "cells": [
  {
   "cell_type": "code",
   "execution_count": null,
   "metadata": {
    "pycharm": {
     "is_executing": false,
     "name": "#%%\n"
    }
   },
   "outputs": [],
   "source": [
    "%load_ext autoreload\n",
    "%autoreload 2"
   ]
  },
  {
   "cell_type": "markdown",
   "metadata": {},
   "source": [
    "# 2. Index assets\n",
    "\n",
    "In order to build a mosaic, we want to replace each image part with \n",
    "a matching source picture (a patch). We will run the search algorithm \n",
    "to find the best matches.\n",
    "\n",
    "To make search fast, we will store preprocessed sources together with \n",
    "their feature vectors. More precisely, we will store:\n",
    "  - a resized version of the original\n",
    "  - result of applying Sobel filter to the resized image\n",
    "  - image description in the form of CSV file entry\n",
    "  \n",
    "The `index_images` function from the `mosaic_mager.index_assets` module\n",
    "is responsible for indexing sources. It uses `ImageProcessor` class from the \n",
    "`mosaic_maker.basic_processing.image_processor` module that will resize and \n",
    "create a Sobel version of the input. After these operations, both results are \n",
    "fed to the `Patch` class from the `mosaic_maker.patch.patch` module that will be \n",
    "responsible for creating a description of the input images.\n",
    "\n",
    "The `Patch` class will also be used in mosaic creation. \n",
    "\n",
    "One could consider embedding Sobel operators in the `Patch` itself, but in the \n",
    "case of mosaic composing, we will want to apply them for the whole source \n",
    "image, not only currently processed part. This way, we'll have better values \n",
    "for patches' borders.\n",
    "\n",
    "In this chapter, we will focus on the `ImageProcessor` implementation. `Patch`,\n",
    "in its current version, will return dummy feature vectors, but we will feed it \n",
    "with properly rescaled and transformed images that will be stored in the \n",
    "`assets` directory.\n",
    "\n",
    "Image processing will consist of three steps:\n",
    "  1. Cropping image to the square shape - patches are square, so we will\n",
    "  use only the central part fo the images leaving out the margins\n",
    "  2. Applying Sobel filters\n",
    "  3. Resizing cropped original and its Sobel version.\n",
    "  "
   ]
  },
  {
   "cell_type": "code",
   "execution_count": null,
   "metadata": {
    "pycharm": {
     "is_executing": false,
     "name": "#%%\n"
    }
   },
   "outputs": [],
   "source": [
    "from config import IMAGES_SET, PATCH_SIZE\n",
    "from mosaic_maker.index_assets import index_images"
   ]
  },
  {
   "cell_type": "code",
   "execution_count": null,
   "metadata": {
    "pycharm": {
     "is_executing": false,
     "name": "#%%\n"
    }
   },
   "outputs": [],
   "source": [
    "index_images(IMAGES_SET, PATCH_SIZE)"
   ]
  },
  {
   "cell_type": "markdown",
   "metadata": {},
   "source": [
    "After the running line above, the `indexed-sources` directory should appear in \n",
    "`assets`. In this directory, you will find another directory named after \n",
    "source images set name. It will contain processed images and a CSV file.\n",
    "\n",
    "As `ImageProcessor` contains only dummy implementation, processed \n",
    "images will be the original images, and CSV will only contain empty lines \n",
    "with filenames in the first column. Let's work on the image processor. We will\n",
    "use the target image generated in the previous chapter as our test input. "
   ]
  },
  {
   "cell_type": "code",
   "execution_count": null,
   "metadata": {
    "pycharm": {
     "is_executing": false,
     "name": "#%%\n"
    }
   },
   "outputs": [],
   "source": [
    "import cv2\n",
    "from matplotlib import pyplot as plt\n",
    "from config import PROJECT_ROOT"
   ]
  },
  {
   "cell_type": "code",
   "execution_count": null,
   "metadata": {
    "pycharm": {
     "is_executing": false,
     "name": "#%%\n"
    }
   },
   "outputs": [],
   "source": [
    "image_path = PROJECT_ROOT / 'assets/test-target.jpg'\n",
    "test_image = cv2.imread(image_path.as_posix())\n",
    "plt.imshow(cv2.cvtColor(test_image, cv2.COLOR_BGR2RGB))"
   ]
  },
  {
   "cell_type": "markdown",
   "metadata": {},
   "source": [
    "Let's create an `ImageProcessor` class instance for it.\n",
    "\n",
    "For now, we will focus on the two fields of `ImageProcessor` class:\n",
    "`cropped_image` and `sobel_magnitude_image`.\n"
   ]
  },
  {
   "cell_type": "code",
   "execution_count": null,
   "metadata": {
    "pycharm": {
     "is_executing": false,
     "name": "#%%\n"
    }
   },
   "outputs": [],
   "source": [
    "from mosaic_maker.basic_processing.image_processor import ImageProcessor"
   ]
  },
  {
   "cell_type": "code",
   "execution_count": null,
   "metadata": {
    "pycharm": {
     "is_executing": false,
     "name": "#%%\n"
    }
   },
   "outputs": [],
   "source": [
    "processed_test = ImageProcessor('test', test_image, PATCH_SIZE)\n",
    "\n",
    "_, grid = plt.subplots(1, 2)\n",
    "grid[0].imshow(cv2.cvtColor(processed_test.cropped_image, cv2.COLOR_BGR2RGB))\n",
    "grid[1].imshow(processed_test.sobel_magnitude_image, cmap='gray')"
   ]
  },
  {
   "cell_type": "markdown",
   "metadata": {
    "pycharm": {
     "name": "#%% md\n"
    }
   },
   "source": [
    "As no of the functions is implemented yet, you should see two copies of the \n",
    "original image above. The right one will have wrong colors but we can leave\n",
    "it this way - after processing image will be in grayscale and will be \n",
    "displayed correctly.\n",
    "\n",
    "\n",
    "Let's start with cropping the image to the center square.\n",
    "\n",
    "Use basic `Numpy` indexing and a `shape` field to achieve this target. You will \n",
    "find a description of the needed operators in the `Numpy`\n",
    "[quickstart tutorial](https://docs.scipy.org/doc/numpy/user/quickstart.html).\n",
    "\n",
    "You can wokr on `test_image` in this notebook.\n",
    "After finding proper algorithm, modify `_crop_to_square` method of \n",
    "`ImageProcessor` to make it work within the class.  "
   ]
  },
  {
   "cell_type": "code",
   "execution_count": null,
   "metadata": {
    "pycharm": {
     "is_executing": false,
     "name": "#%%\n"
    }
   },
   "outputs": [],
   "source": [
    "test_image_copy = test_image.copy() \n",
    "\n",
    "# do some sample operations on test image copy here\n",
    "\n",
    "plt.imshow(cv2.cvtColor(test_image_copy, cv2.COLOR_BGR2RGB))"
   ]
  },
  {
   "cell_type": "markdown",
   "metadata": {
    "pycharm": {
     "name": "#%% md\n"
    }
   },
   "source": [
    "After fixing `crop_to_square` method block below should create two cropped\n",
    "images."
   ]
  },
  {
   "cell_type": "code",
   "execution_count": null,
   "metadata": {
    "pycharm": {
     "is_executing": false,
     "name": "#%%\n"
    }
   },
   "outputs": [],
   "source": [
    "processed_test = ImageProcessor('test', test_image, PATCH_SIZE)\n",
    "\n",
    "_, grid = plt.subplots(1, 2)\n",
    "grid[0].imshow(cv2.cvtColor(processed_test.cropped_image, cv2.COLOR_BGR2RGB))\n",
    "grid[1].imshow(processed_test.sobel_magnitude_image, cmap='gray')"
   ]
  },
  {
   "cell_type": "markdown",
   "metadata": {
    "pycharm": {
     "name": "#%% md\n"
    }
   },
   "source": [
    "Now let's work on Sobel filters.\n",
    "\n",
    "Applying Sobel filters will be more sophisticated than cropping images. You \n",
    "will have to perform the following steps:\n",
    "  - Convert image to grayscale and blur the result - read \n",
    "  [changing colorspaces tutorial](https://docs.opencv.org/master/df/d9d/tutorial_py_colorspaces.html)\n",
    "  and \n",
    "  [smoothing images tutorial](https://docs.opencv.org/master/d4/d13/tutorial_py_filtering.html)\n",
    "  - Calculate gradients - read [image gradients tutorial](https://docs.opencv.org/master/d5/d0f/tutorial_py_gradients.html)\n",
    "  to find instructions for building `x` and `y` Sobel images\n",
    "  - process gradients by applying \n",
    "  [`convertScaleAbs`](https://docs.opencv.org/4.2.0/d2/de8/group__core__array.html#ga3460e9c9f37b563ab9dd550c4d8c4e7d)\n",
    "  function to remove signs and then combine results using  \n",
    "  [`addWeighted`](https://docs.opencv.org/4.2.0/d2/de8/group__core__array.html#gafafb2513349db3bcff51f54ee5592a19)\n",
    "  - to remove noises and unimportant edges, threshold result - you can read\n",
    "  about this operation in the [image thresholding tutorial](https://docs.opencv.org/master/d7/d4d/tutorial_py_thresholding.html)\n",
    "\n",
    "You can work on the code block below and then apply results to the\n",
    "`calculate_sobel_magnitude_image` method."
   ]
  },
  {
   "cell_type": "code",
   "execution_count": null,
   "metadata": {
    "pycharm": {
     "is_executing": false,
     "name": "#%%\n"
    }
   },
   "outputs": [],
   "source": [
    "test_image_copy = test_image.copy() \n",
    "\n",
    "# do some sample operations on test image copy here\n",
    "\n",
    "plt.imshow(cv2.cvtColor(test_image_copy, cv2.COLOR_BGR2RGB))"
   ]
  },
  {
   "cell_type": "markdown",
   "metadata": {
    "pycharm": {
     "name": "#%% md\n"
    }
   },
   "source": [
    "After applying all changes, you should see two different images below: one with\n",
    "the cropped image and one with edges."
   ]
  },
  {
   "cell_type": "code",
   "execution_count": null,
   "metadata": {
    "pycharm": {
     "is_executing": false,
     "name": "#%%\n"
    }
   },
   "outputs": [],
   "source": [
    "processed_test = ImageProcessor('test', test_image, PATCH_SIZE)\n",
    "\n",
    "_, grid = plt.subplots(1, 2)\n",
    "grid[0].imshow(cv2.cvtColor(processed_test.cropped_image, cv2.COLOR_BGR2RGB))\n",
    "grid[1].imshow(processed_test.sobel_magnitude_image, cmap='gray')"
   ]
  },
  {
   "cell_type": "markdown",
   "metadata": {
    "pycharm": {
     "is_executing": false,
     "name": "#%% md\n"
    }
   },
   "source": [
    "We can now run `index_images` function again and check the results\n",
    "in the the `assets` directory."
   ]
  },
  {
   "cell_type": "code",
   "execution_count": null,
   "metadata": {
    "pycharm": {
     "is_executing": false,
     "name": "#%%\n"
    }
   },
   "outputs": [],
   "source": [
    "index_images(IMAGES_SET, PATCH_SIZE)"
   ]
  }
 ],
 "metadata": {
  "kernelspec": {
   "display_name": "Python 3",
   "language": "python",
   "name": "python3"
  },
  "language_info": {
   "codemirror_mode": {
    "name": "ipython",
    "version": 3
   },
   "file_extension": ".py",
   "mimetype": "text/x-python",
   "name": "python",
   "nbconvert_exporter": "python",
   "pygments_lexer": "ipython3",
   "version": "3.7.5"
  },
  "pycharm": {
   "stem_cell": {
    "cell_type": "raw",
    "metadata": {
     "collapsed": false
    },
    "source": []
   }
  }
 },
 "nbformat": 4,
 "nbformat_minor": 1
}
