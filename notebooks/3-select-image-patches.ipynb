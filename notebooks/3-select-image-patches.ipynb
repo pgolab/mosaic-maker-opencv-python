{
 "cells": [
  {
   "cell_type": "code",
   "execution_count": 1,
   "metadata": {
    "pycharm": {
     "is_executing": false,
     "name": "#%%\n"
    }
   },
   "outputs": [],
   "source": [
    "%load_ext autoreload\n",
    "%autoreload 2"
   ]
  },
  {
   "cell_type": "code",
   "execution_count": 2,
   "metadata": {},
   "outputs": [],
   "source": [
    "import os, sys\n",
    "currentdir = os.path.dirname(os.path.realpath(\"__file__\"))\n",
    "parentdir = os.path.dirname(currentdir)\n",
    "sys.path.append(parentdir)"
   ]
  },
  {
   "cell_type": "markdown",
   "metadata": {},
   "source": [
    "# 3. Select image patches for processing\n",
    "\n",
    "In this short chapter, we will start working on mosaic composing. Before we \n",
    "start working on the matching algorithm, we have to prepare the processing \n",
    "framework.\n",
    "\n",
    "We will be working on `MosaicImage` class from `mosaic_maker.mosaic.mosaic_image`\n",
    "module.\n",
    "\n",
    "We have two methods to implement there:\n",
    "  - `_crop_image_to_patch_size`, that crops image so its completely divisible\n",
    "  by our patch size - this is a brutal solution that will save us from \n",
    "  border-case headaches\n",
    "  - `_select_patch_for`, that will use a `PatchPicker` class for selecting\n",
    "  match for currently processed square and will print patch on the mosaic \n",
    "  image. `_select_patch_for` prints also some development info.\n",
    "  \n",
    "Displaying development info on images is common practice for debugging and\n",
    "tracking computer vision algorithms behavior. We will display\n",
    "the Sobel version of the image and mosaic to see if our algorithm persists \n",
    "edges well. We will also mark current progress by marking processed shapes \n",
    "with border.\n",
    "\n",
    "Take a while for `MosaicImage` implementation analysis. As you will see, we're\n",
    "using threads for its main loop. The reason is that we want to be able to\n",
    "display current mosaic status during computation-heavy\n",
    "operations. In order to prevent mosaic computation from blocking interface,\n",
    "we put its logic to separate thread witch is a common practice in the systems \n",
    "with responsive GUI."
   ]
  },
  {
   "cell_type": "markdown",
   "metadata": {},
   "source": [
    "Let's start with cropping implementation. At this stage, you should be\n",
    "acquainted with the `Numpy` well enough to crop source image, so it's \n",
    "fully divisible by the `PATCH_SIZE`.  \n",
    "\n",
    "Remember to make `select_patch_for` return a new image instead of \n",
    "modifying the original one."
   ]
  },
  {
   "cell_type": "code",
   "execution_count": 3,
   "metadata": {
    "pycharm": {
     "is_executing": false,
     "name": "#%%\n"
    }
   },
   "outputs": [],
   "source": [
    "import cv2\n",
    "import numpy as np\n",
    "from matplotlib import pyplot as plt\n",
    "from mosaic_maker.mosaic.mosaic_image import MosaicImage\n",
    "from mosaic_maker.mosaic.patch_picker import PatchPicker\n",
    "from config import PATCH_SIZE, PROJECT_ROOT"
   ]
  },
  {
   "cell_type": "code",
   "execution_count": 4,
   "metadata": {
    "pycharm": {
     "is_executing": false,
     "name": "#%%\n"
    }
   },
   "outputs": [
    {
     "data": {
      "text/plain": [
       "<matplotlib.image.AxesImage at 0x1235f7f70>"
      ]
     },
     "execution_count": 4,
     "metadata": {},
     "output_type": "execute_result"
    },
    {
     "data": {
      "image/png": "[encoded data removed]",
      "text/plain": [
       "<Figure size 432x288 with 1 Axes>"
      ]
     },
     "metadata": {
      "needs_background": "light"
     },
     "output_type": "display_data"
    }
   ],
   "source": [
    "image_path = PROJECT_ROOT / 'assets/test-target.jpg'\n",
    "test_image = cv2.imread(image_path.as_posix())\n",
    "plt.imshow(cv2.cvtColor(test_image, cv2.COLOR_BGR2RGB))"
   ]
  },
  {
   "cell_type": "code",
   "execution_count": 5,
   "metadata": {
    "pycharm": {
     "is_executing": false,
     "name": "#%%\n"
    }
   },
   "outputs": [
    {
     "name": "stdout",
     "output_type": "stream",
     "text": [
      "original shape: (500, 900, 3)\n",
      "cropped shape: (500, 900, 3)\n"
     ]
    },
    {
     "data": {
      "text/plain": [
       "<matplotlib.image.AxesImage at 0x1236ed3a0>"
      ]
     },
     "execution_count": 5,
     "metadata": {},
     "output_type": "execute_result"
    },
    {
     "data": {
      "image/png": "[encoded data removed]",
      "text/plain": [
       "<Figure size 432x288 with 1 Axes>"
      ]
     },
     "metadata": {
      "needs_background": "light"
     },
     "output_type": "display_data"
    }
   ],
   "source": [
    "test_image_copy = test_image.copy()\n",
    "\n",
    "cropped_image = MosaicImage._crop_image_to_patch_size(test_image_copy, PATCH_SIZE)\n",
    "print(f'original shape: {test_image_copy.shape}')\n",
    "print(f'cropped shape: {cropped_image.shape}')\n",
    "plt.imshow(cv2.cvtColor(cropped_image, cv2.COLOR_BGR2RGB))"
   ]
  },
  {
   "cell_type": "markdown",
   "metadata": {},
   "source": [
    "The next step will be a bit more sophisticated. We want to modify \n",
    "`_select_patch_for` method so it:\n",
    "  - creates patch class instance for provided `(x, y)` position\n",
    "  - feeds it to `PatchPicker` `pick_patch_for` method to select mosaic patch\n",
    "   (currently `pick_patch_for` isn't implemented, so it always returns a random\n",
    "   image from the sources set\n",
    "  - prints corresponding images on `mosaic` and `sobel_mosaic`\n",
    "  - prints corresponding rectangles on `target_image_copy` and \n",
    "  `target_sobel_image_copy`"
   ]
  },
  {
   "cell_type": "code",
   "execution_count": 6,
   "metadata": {
    "pycharm": {
     "is_executing": false,
     "name": "#%%\n"
    }
   },
   "outputs": [],
   "source": [
    "test_image_copy = test_image.copy()\n",
    "\n",
    "patches_path = PROJECT_ROOT / 'assets/indexed-sources/test'\n",
    "patch_picker = PatchPicker('test', patches_path)\n",
    "mosaic_image = MosaicImage(test_image_copy, PATCH_SIZE, patch_picker)"
   ]
  },
  {
   "cell_type": "code",
   "execution_count": 7,
   "metadata": {
    "pycharm": {
     "is_executing": false,
     "name": "#%%\n"
    }
   },
   "outputs": [],
   "source": [
    "mosaic = np.zeros(mosaic_image.target_image.shape, np.uint8)\n",
    "sobel_mosaic = np.zeros(mosaic_image.target_sobel_image.shape, np.uint8)"
   ]
  },
  {
   "cell_type": "code",
   "execution_count": 8,
   "metadata": {
    "pycharm": {
     "is_executing": false,
     "name": "#%%\n"
    }
   },
   "outputs": [
    {
     "data": {
      "text/plain": [
       "<matplotlib.image.AxesImage at 0x12381b940>"
      ]
     },
     "execution_count": 8,
     "metadata": {},
     "output_type": "execute_result"
    },
    {
     "data": {
      "image/png": "[encoded data removed]",
      "text/plain": [
       "<Figure size 432x288 with 4 Axes>"
      ]
     },
     "metadata": {
      "needs_background": "light"
     },
     "output_type": "display_data"
    }
   ],
   "source": [
    "_, grid = plt.subplots(2, 2)\n",
    "grid[0, 0].imshow(cv2.cvtColor(mosaic_image.target_image, cv2.COLOR_BGR2RGB))\n",
    "grid[0, 1].imshow(mosaic_image.target_sobel_image, cmap='gray')\n",
    "grid[1, 0].imshow(cv2.cvtColor(mosaic, cv2.COLOR_BGR2RGB))\n",
    "grid[1, 1].imshow(sobel_mosaic, cmap='gray')"
   ]
  },
  {
   "cell_type": "code",
   "execution_count": 9,
   "metadata": {
    "pycharm": {
     "is_executing": false,
     "name": "#%%\n"
    }
   },
   "outputs": [],
   "source": [
    "target_image_copy = mosaic_image.target_image.copy()\n",
    "target_sobel_image_copy = mosaic_image.target_sobel_image.copy()\n",
    "\n",
    "(height, width) = target_image_copy.shape[:2]\n",
    "mosaic_image._compose_mosaic_for(width, height, \n",
    "                                 mosaic, sobel_mosaic, \n",
    "                                 target_image_copy, target_sobel_image_copy)"
   ]
  },
  {
   "cell_type": "code",
   "execution_count": 10,
   "metadata": {
    "pycharm": {
     "is_executing": false,
     "name": "#%%\n"
    }
   },
   "outputs": [
    {
     "data": {
      "text/plain": [
       "<matplotlib.image.AxesImage at 0x123942df0>"
      ]
     },
     "execution_count": 10,
     "metadata": {},
     "output_type": "execute_result"
    },
    {
     "data": {
      "image/png": "[encoded data removed]",
      "text/plain": [
       "<Figure size 1440x741.6 with 4 Axes>"
      ]
     },
     "metadata": {
      "needs_background": "light"
     },
     "output_type": "display_data"
    }
   ],
   "source": [
    "_, grid = plt.subplots(2, 2, figsize=(20, 10.3))\n",
    "grid[0, 0].imshow(cv2.cvtColor(target_image_copy, cv2.COLOR_BGR2RGB))\n",
    "grid[0, 1].imshow(target_sobel_image_copy, cmap='gray')\n",
    "grid[1, 0].imshow(cv2.cvtColor(mosaic, cv2.COLOR_BGR2RGB))\n",
    "grid[1, 1].imshow(sobel_mosaic, cmap='gray')"
   ]
  },
  {
   "cell_type": "markdown",
   "metadata": {
    "pycharm": {
     "is_executing": false,
     "name": "#%% md\n"
    }
   },
   "source": [
    "The result should be similar to this:\n",
    "\n",
    "![title](assets/3-select-image/result.png)\n",
    "\n",
    "The grid may not display fully due to `MatPlotLib` compression.\n",
    "\n",
    "If you run `compose_mosaic` module main function, you should see mosaic\n",
    "filling up dynamically, resulting in the following windows displayed:\n",
    "\n",
    "![title](assets/3-select-image/modals-result.png)"
   ]
  }
 ],
 "metadata": {
  "kernelspec": {
   "display_name": "Python 3",
   "language": "python",
   "name": "python3"
  },
  "language_info": {
   "codemirror_mode": {
    "name": "ipython",
    "version": 3
   },
   "file_extension": ".py",
   "mimetype": "text/x-python",
   "name": "python",
   "nbconvert_exporter": "python",
   "pygments_lexer": "ipython3",
   "version": "3.9.2"
  },
  "pycharm": {
   "stem_cell": {
    "cell_type": "raw",
    "metadata": {
     "collapsed": false
    },
    "source": []
   }
  }
 },
 "nbformat": 4,
 "nbformat_minor": 4
}
