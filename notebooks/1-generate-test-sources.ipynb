{
 "cells": [
  {
   "cell_type": "code",
   "execution_count": 1,
   "metadata": {
    "pycharm": {
     "is_executing": false,
     "name": "#%%\n"
    }
   },
   "outputs": [],
   "source": [
    "%load_ext autoreload\n",
    "%autoreload 2"
   ]
  },
  {
   "cell_type": "markdown",
   "metadata": {},
   "source": [
    "# 1. Generating test images\n",
    "\n",
    "Before we begin working on mosaics generation, we'll need test data. It's often\n",
    "a good practice to create an artificial dataset for some parts of algorithm\n",
    "development.\n",
    "\n",
    "The artificial test set has one significant advantage over real-world data: we\n",
    "control all factors having influence on results specification. Such control allows\n",
    "for building specific tests for different aspects of the algorithm we'd like to\n",
    "design.\n",
    "\n",
    "In our case, the test set generation will also be an excellent opportunity to get\n",
    "acquainted with *OpenCV* drawing functions and *Numpy* arrays.\n",
    "\n",
    "In following section we'll be working on `utils/test_images_generator` directory.\n",
    "\n",
    "Target image will contain a set of randomly generated shapes in random colors. \n",
    "You can see example of such image below. \n",
    "\n",
    "![title](assets/1-test-images/test-target.jpg)\n",
    "\n",
    "First, we'll try to recreate these images using random square splices of the\n",
    "similar kind original images.\n",
    "\n",
    "![title](assets/1-test-images/source-1.jpg) | ![title](assets/1-test-images/source-2.jpg) | ![title](assets/1-test-images/source-3.jpg) | ![title](assets/1-test-images/source-4.jpg) | ![title](assets/1-test-images/source-5.jpg)\n",
    "------------------------------------------|------------------------------------------|------------------------------------------|------------------------------------------|------------------------------------------\n",
    "\n",
    "As a mosaic result we'll be aiming for something along these lines.\n",
    "\n",
    "![title](assets/1-test-images/test-output.jpg)\n",
    "\n",
    "It's not perfect of course, as we won't have exact matches to image parts we'll \n",
    "want to recreate.\n",
    "\n",
    "Let's get to work."
   ]
  },
  {
   "cell_type": "code",
   "execution_count": 2,
   "metadata": {
    "pycharm": {
     "is_executing": false,
     "name": "#%%\n"
    }
   },
   "outputs": [],
   "source": [
    "from matplotlib import pyplot as plt"
   ]
  },
  {
   "cell_type": "code",
   "execution_count": 3,
   "metadata": {
    "pycharm": {
     "is_executing": false,
     "name": "#%%\n"
    }
   },
   "outputs": [],
   "source": [
    "from utils.test_images_generator.random_image_generator import generate_random_image"
   ]
  },
  {
   "cell_type": "code",
   "execution_count": 4,
   "metadata": {
    "pycharm": {
     "is_executing": false,
     "name": "#%%\n"
    }
   },
   "outputs": [
    {
     "data": {
      "text/plain": [
       "<matplotlib.image.AxesImage at 0x119ed02d0>"
      ]
     },
     "execution_count": 4,
     "metadata": {},
     "output_type": "execute_result"
    },
    {
     "data": {
      "image/png": "[encoded data removed]",
      "text/plain": [
       "<Figure size 432x288 with 1 Axes>"
      ]
     },
     "metadata": {
      "needs_background": "light"
     },
     "output_type": "display_data"
    }
   ],
   "source": [
    "generated_image = generate_random_image(500, 500)\n",
    "plt.imshow(cv2.cvtColor(generated_image, cv2.COLOR_BGR2RGB))"
   ]
  },
  {
   "cell_type": "markdown",
   "metadata": {},
   "source": [
    "You should see a black square above. As a first step let's try to make it white.\n",
    "\n",
    "Take a look at the `generate_random_image` function. You will see that we are\n",
    "using numpy function `zeros` that is creating array of a given shape - in our\n",
    "case it will be `(height, width, 3)` - last dimension is used for color coding.\n",
    "As we are filling an array with zeros the resulting image is black.\n",
    "\n",
    "In order to make numpy arrays compatible with OpenCv, we're setting `dtype=np.uint8`.\n",
    "\n",
    "Read about numpy's [full function](https://numpy.org/doc/1.18/reference/generated/numpy.full.html)\n",
    "and use it to create an image filled with the white color (`(255, 255, 255)`).\n"
   ]
  },
  {
   "cell_type": "code",
   "execution_count": 32,
   "metadata": {
    "pycharm": {
     "is_executing": false,
     "name": "#%%\n"
    }
   },
   "outputs": [
    {
     "data": {
      "text/plain": [
       "<matplotlib.image.AxesImage at 0x127033a10>"
      ]
     },
     "execution_count": 32,
     "metadata": {},
     "output_type": "execute_result"
    },
    {
     "data": {
      "image/png": "[encoded data removed]",
      "text/plain": [
       "<Figure size 432x288 with 1 Axes>"
      ]
     },
     "metadata": {
      "needs_background": "light"
     },
     "output_type": "display_data"
    }
   ],
   "source": [
    "generated_image = generate_random_image(500, 500)\n",
    "plt.imshow(cv2.cvtColor(generated_image, cv2.COLOR_BGR2RGB))"
   ]
  },
  {
   "cell_type": "markdown",
   "metadata": {},
   "source": [
    "After applying changes to the `generate_random_image` file you should see\n",
    "white image after running line above. Now let's work on shapes.\n",
    "\n",
    "Read about [`randint`](https://numpy.org/doc/1.18/reference/random/generated/numpy.random.randint.html)\n",
    "and [`choice`](https://numpy.org/doc/1.18/reference/random/generated/numpy.random.choice.html)\n",
    "functions and use them to generate a random list of `AVAILABLE_SHAPES_DICT` dict values."
   ]
  },
  {
   "cell_type": "code",
   "execution_count": 6,
   "metadata": {
    "pycharm": {
     "is_executing": false,
     "name": "#%%\n"
    }
   },
   "outputs": [
    {
     "data": {
      "text/plain": [
       "{'LINE': 'LINE',\n",
       " 'TRIANGLE': 'TRIANGLE',\n",
       " 'RECTANGLE': 'RECTANGLE',\n",
       " 'CIRCLE': 'CIRCLE'}"
      ]
     },
     "execution_count": 6,
     "metadata": {},
     "output_type": "execute_result"
    }
   ],
   "source": [
    "from utils.test_images_generator.generator_config import AVAILABLE_SHAPES_DICT\n",
    "AVAILABLE_SHAPES_DICT"
   ]
  },
  {
   "cell_type": "markdown",
   "metadata": {},
   "source": [
    "First pick a random integer between `5` and `10` using `randint` function and\n",
    "generate list of this length made of `AVAILABLE_SHAPES_DICT` values using `choice`.\n",
    "\n",
    "Generated image will be still white as we didn't implemented drawing functions yet. "
   ]
  },
  {
   "cell_type": "code",
   "execution_count": 33,
   "metadata": {
    "pycharm": {
     "is_executing": false,
     "name": "#%%\n"
    }
   },
   "outputs": [
    {
     "data": {
      "text/plain": [
       "<matplotlib.image.AxesImage at 0x127227f10>"
      ]
     },
     "execution_count": 33,
     "metadata": {},
     "output_type": "execute_result"
    },
    {
     "data": {
      "image/png": "[encoded data removed]",
      "text/plain": [
       "<Figure size 432x288 with 1 Axes>"
      ]
     },
     "metadata": {
      "needs_background": "light"
     },
     "output_type": "display_data"
    }
   ],
   "source": [
    "generated_image = generate_random_image(500, 500)\n",
    "plt.imshow(cv2.cvtColor(generated_image, cv2.COLOR_BGR2RGB))"
   ]
  },
  {
   "cell_type": "markdown",
   "metadata": {},
   "source": [
    "Let's modify `_draw_random_line`, `_draw_random_rectangle`, and\n",
    "`_draw_random_circle` to make them draw shapes. We'll leave \n",
    "`_draw_random_triangle` for later.\n",
    "\n",
    "Read `OpenCV`'s [drawing functions tutorial](https://docs.opencv.org/master/dc/da5/tutorial_py_drawing_functions.html).\n",
    "\n",
    "Remember that all of required functions like `cv2.line` modify \n",
    "original image. This is why all of these functions get image as a parameter.\n",
    "\n",
    "In `generator_utils` you will find two helper functions: `generate_random_color`\n",
    "and `generate_random_image_points`.\n",
    "\n",
    "`generate_random_color` is currently returning black color every time but we'll\n",
    "tackle this later.\n",
    " "
   ]
  },
  {
   "cell_type": "code",
   "execution_count": 8,
   "metadata": {
    "pycharm": {
     "is_executing": false,
     "name": "#%%\n"
    }
   },
   "outputs": [],
   "source": [
    "from utils.test_images_generator.generator_utils import generate_random_color, generate_random_image_points"
   ]
  },
  {
   "cell_type": "code",
   "execution_count": 9,
   "metadata": {
    "pycharm": {
     "is_executing": false,
     "name": "#%%\n"
    }
   },
   "outputs": [
    {
     "data": {
      "text/plain": [
       "(255, 0, 0)"
      ]
     },
     "execution_count": 9,
     "metadata": {},
     "output_type": "execute_result"
    }
   ],
   "source": [
    "generate_random_color()"
   ]
  },
  {
   "cell_type": "code",
   "execution_count": 10,
   "metadata": {
    "pycharm": {
     "is_executing": false,
     "name": "#%%\n"
    }
   },
   "outputs": [
    {
     "data": {
      "text/plain": [
       "[(477, 87), (222, 299), (464, 28), (459, 332), (21, 423)]"
      ]
     },
     "execution_count": 10,
     "metadata": {},
     "output_type": "execute_result"
    }
   ],
   "source": [
    "generate_random_image_points(generated_image, 5)\n"
   ]
  },
  {
   "cell_type": "markdown",
   "metadata": {},
   "source": [
    "Code block below should display black shapes after implementing helper\n",
    "function bodies. \n",
    "  "
   ]
  },
  {
   "cell_type": "code",
   "execution_count": 34,
   "metadata": {
    "pycharm": {
     "is_executing": false,
     "name": "#%%\n"
    }
   },
   "outputs": [
    {
     "data": {
      "text/plain": [
       "<matplotlib.image.AxesImage at 0x127385450>"
      ]
     },
     "execution_count": 34,
     "metadata": {},
     "output_type": "execute_result"
    },
    {
     "data": {
      "image/png": "[encoded data removed]",
      "text/plain": [
       "<Figure size 432x288 with 1 Axes>"
      ]
     },
     "metadata": {
      "needs_background": "light"
     },
     "output_type": "display_data"
    }
   ],
   "source": [
    "generated_image = generate_random_image(500, 500)\n",
    "plt.imshow(cv2.cvtColor(generated_image, cv2.COLOR_BGR2RGB))"
   ]
  },
  {
   "cell_type": "markdown",
   "metadata": {},
   "source": [
    "Let's fix `generate_random_color` function to make images more readable.\n",
    "Again, use `choice` function to pick random color from `AVAILABLE_COLORS_DICT`."
   ]
  },
  {
   "cell_type": "code",
   "execution_count": 12,
   "metadata": {
    "pycharm": {
     "is_executing": false,
     "name": "#%%\n"
    }
   },
   "outputs": [
    {
     "data": {
      "text/plain": [
       "{'RED': (0, 0, 255),\n",
       " 'GREEN': (0, 255, 0),\n",
       " 'BLUE': (255, 0, 0),\n",
       " 'YELLOW': (0, 255, 255),\n",
       " 'PURPLE': (255, 0, 255),\n",
       " 'CYAN': (255, 255, 0)}"
      ]
     },
     "execution_count": 12,
     "metadata": {},
     "output_type": "execute_result"
    }
   ],
   "source": [
    "from utils.test_images_generator.generator_config import AVAILABLE_COLORS_DICT\n",
    "AVAILABLE_COLORS_DICT"
   ]
  },
  {
   "cell_type": "code",
   "execution_count": 13,
   "metadata": {
    "pycharm": {
     "is_executing": false,
     "name": "#%%\n"
    }
   },
   "outputs": [
    {
     "data": {
      "text/plain": [
       "(0, 255, 0)"
      ]
     },
     "execution_count": 13,
     "metadata": {},
     "output_type": "execute_result"
    }
   ],
   "source": [
    "generate_random_color()\n"
   ]
  },
  {
   "cell_type": "code",
   "execution_count": 35,
   "metadata": {
    "pycharm": {
     "is_executing": false,
     "name": "#%%\n"
    }
   },
   "outputs": [
    {
     "data": {
      "text/plain": [
       "<matplotlib.image.AxesImage at 0x12757a950>"
      ]
     },
     "execution_count": 35,
     "metadata": {},
     "output_type": "execute_result"
    },
    {
     "data": {
      "image/png": "[encoded data removed]",
      "text/plain": [
       "<Figure size 432x288 with 1 Axes>"
      ]
     },
     "metadata": {
      "needs_background": "light"
     },
     "output_type": "display_data"
    }
   ],
   "source": [
    "generated_image = generate_random_image(500, 500)\n",
    "plt.imshow(cv2.cvtColor(generated_image, cv2.COLOR_BGR2RGB))"
   ]
  },
  {
   "cell_type": "markdown",
   "metadata": {},
   "source": [
    "Much better. The last shape to tackle is a triangle. To generate it use\n",
    "[`fillConvexPolly`](https://docs.opencv.org/master/d6/d6e/group__imgproc__draw.html#ga3069baf93b51565e386c8e591f8418e6)\n",
    "function.\n",
    "\n",
    "You will need to use [`reshape`](https://numpy.org/doc/1.18/reference/generated/numpy.reshape.html)\n",
    "function on the list returned by `generate_random_image_points` to make it \n",
    "compatible with `fillConvexPolly`. Use `(-1, 1, 2)` as a shape attribute to\n",
    "make it work."
   ]
  },
  {
   "cell_type": "code",
   "execution_count": 36,
   "metadata": {
    "pycharm": {
     "is_executing": false,
     "name": "#%%\n"
    }
   },
   "outputs": [
    {
     "data": {
      "text/plain": [
       "<matplotlib.image.AxesImage at 0x1275d8e50>"
      ]
     },
     "execution_count": 36,
     "metadata": {},
     "output_type": "execute_result"
    },
    {
     "data": {
      "image/png": "[encoded data removed]",
      "text/plain": [
       "<Figure size 432x288 with 1 Axes>"
      ]
     },
     "metadata": {
      "needs_background": "light"
     },
     "output_type": "display_data"
    }
   ],
   "source": [
    "generated_image = generate_random_image(500, 500)\n",
    "plt.imshow(cv2.cvtColor(generated_image, cv2.COLOR_BGR2RGB))"
   ]
  },
  {
   "cell_type": "markdown",
   "metadata": {},
   "source": [
    "You can use now `generate_target_image` function from `generate_images`\n",
    "to generate and save new target image in `assets` directory.\n",
    "\n",
    "Let's move to random sources generation."
   ]
  },
  {
   "cell_type": "markdown",
   "metadata": {},
   "source": [
    "## 1.2 Generating source images\n",
    "\n",
    "The general idea for source images generation is to generate random images\n",
    "using `generate_target_image` and slice them into small squares.\n",
    "\n",
    "For the most of cases such squares will be filled with one color - either\n",
    "white image background or shape content. The solution will be generating\n",
    "such flat images first and then pick only these random image slices that\n",
    "contain something more that just flat color.\n",
    "\n",
    "In this chapter we'll be working on `generate_patches_set` function\n",
    "from `random_image_generator`. Currently it only generates black squares\n",
    "and stores them in `assets`."
   ]
  },
  {
   "cell_type": "code",
   "execution_count": 16,
   "metadata": {
    "pycharm": {
     "is_executing": false,
     "name": "#%%\n"
    }
   },
   "outputs": [],
   "source": [
    "from utils.test_images_generator.generate_images import generate_patches_set\n",
    "from config import PATCH_SIZE"
   ]
  },
  {
   "cell_type": "code",
   "execution_count": 17,
   "metadata": {
    "pycharm": {
     "is_executing": false,
     "name": "#%%\n"
    }
   },
   "outputs": [
    {
     "name": "stdout",
     "output_type": "stream",
     "text": [
      "GENERATED 0300 OF 300 PATCHES"
     ]
    }
   ],
   "source": [
    "generate_patches_set('test', PATCH_SIZE, 300, 900, 500)\n"
   ]
  },
  {
   "cell_type": "markdown",
   "metadata": {
    "pycharm": {
     "name": "#%% md\n"
    }
   },
   "source": [
    "Let's start with generating flat color images. Again, `full` function will \n",
    "come in handy. Remember to add white color to `AVAILABLE_COLORS_DICT` values."
   ]
  },
  {
   "cell_type": "code",
   "execution_count": 18,
   "metadata": {
    "pycharm": {
     "is_executing": false,
     "name": "#%%\n"
    }
   },
   "outputs": [
    {
     "name": "stdout",
     "output_type": "stream",
     "text": [
      "GENERATED 0300 OF 300 PATCHES"
     ]
    }
   ],
   "source": [
    "generate_patches_set('test', PATCH_SIZE, 300, 900, 500)"
   ]
  },
  {
   "cell_type": "markdown",
   "metadata": {
    "pycharm": {
     "name": "#%% md\n"
    }
   },
   "source": [
    "In order to generate the rest of patches, analyze main `generate_patches_set`\n",
    "loop. Instead of assigning black square to `patch`, we'd like to select\n",
    "a square from `generated_image` at `x, y` position of `patch_size` size.\n",
    "Basic numpy's selecting methods will come in handy here.\n",
    "\n",
    "You can see how we make sure that selected image isn't just a flat square and\n",
    "provides an interesting content. \n",
    "\n",
    "The implemented method of generating source images is quite blunt but it server \n",
    "its purpose.\n",
    "\n",
    "After applying changes `generate_patches_set` should generate nice, diverse\n",
    "patches, starting with `7` plain squares."
   ]
  },
  {
   "cell_type": "code",
   "execution_count": 19,
   "metadata": {
    "pycharm": {
     "is_executing": false,
     "name": "#%%\n"
    }
   },
   "outputs": [
    {
     "name": "stdout",
     "output_type": "stream",
     "text": [
      "GENERATED 0300 OF 300 PATCHES"
     ]
    }
   ],
   "source": [
    "generate_patches_set('test', PATCH_SIZE, 300, 900, 500)\n"
   ]
  }
 ],
 "metadata": {
  "kernelspec": {
   "display_name": "Python 3",
   "language": "python",
   "name": "python3"
  },
  "language_info": {
   "codemirror_mode": {
    "name": "ipython",
    "version": 3
   },
   "file_extension": ".py",
   "mimetype": "text/x-python",
   "name": "python",
   "nbconvert_exporter": "python",
   "pygments_lexer": "ipython3",
   "version": "3.7.5"
  },
  "pycharm": {
   "stem_cell": {
    "cell_type": "raw",
    "metadata": {
     "collapsed": false
    },
    "source": []
   }
  }
 },
 "nbformat": 4,
 "nbformat_minor": 1
}
