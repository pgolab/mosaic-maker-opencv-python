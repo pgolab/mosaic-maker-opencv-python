{
 "cells": [
  {
   "cell_type": "code",
   "execution_count": 4,
   "metadata": {
    "pycharm": {
     "is_executing": false,
     "name": "#%%\n"
    }
   },
   "outputs": [
    {
     "name": "stdout",
     "output_type": "stream",
     "text": [
      "The autoreload extension is already loaded. To reload it, use:\n",
      "  %reload_ext autoreload\n"
     ]
    },
    {
     "ename": "NameError",
     "evalue": "name '__file__' is not defined",
     "output_type": "error",
     "traceback": [
      "\u001B[0;31m---------------------------------------------------------------------------\u001B[0m",
      "\u001B[0;31mNameError\u001B[0m                                 Traceback (most recent call last)",
      "\u001B[0;32m<ipython-input-4-e57584d0d8a9>\u001B[0m in \u001B[0;36m<module>\u001B[0;34m\u001B[0m\n\u001B[1;32m      3\u001B[0m \u001B[0;34m\u001B[0m\u001B[0m\n\u001B[1;32m      4\u001B[0m \u001B[0;32mimport\u001B[0m \u001B[0mos\u001B[0m\u001B[0;34m,\u001B[0m \u001B[0msys\u001B[0m\u001B[0;34m\u001B[0m\u001B[0;34m\u001B[0m\u001B[0m\n\u001B[0;32m----> 5\u001B[0;31m \u001B[0mcurrentdir\u001B[0m \u001B[0;34m=\u001B[0m \u001B[0mos\u001B[0m\u001B[0;34m.\u001B[0m\u001B[0mpath\u001B[0m\u001B[0;34m.\u001B[0m\u001B[0mdirname\u001B[0m\u001B[0;34m(\u001B[0m\u001B[0mos\u001B[0m\u001B[0;34m.\u001B[0m\u001B[0mpath\u001B[0m\u001B[0;34m.\u001B[0m\u001B[0mrealpath\u001B[0m\u001B[0;34m(\u001B[0m\u001B[0m__file__\u001B[0m\u001B[0;34m)\u001B[0m\u001B[0;34m)\u001B[0m\u001B[0;34m\u001B[0m\u001B[0;34m\u001B[0m\u001B[0m\n\u001B[0m\u001B[1;32m      6\u001B[0m \u001B[0mparentdir\u001B[0m \u001B[0;34m=\u001B[0m \u001B[0mos\u001B[0m\u001B[0;34m.\u001B[0m\u001B[0mpath\u001B[0m\u001B[0;34m.\u001B[0m\u001B[0mdirname\u001B[0m\u001B[0;34m(\u001B[0m\u001B[0mcurrentdir\u001B[0m\u001B[0;34m)\u001B[0m\u001B[0;34m\u001B[0m\u001B[0;34m\u001B[0m\u001B[0m\n\u001B[1;32m      7\u001B[0m \u001B[0msys\u001B[0m\u001B[0;34m.\u001B[0m\u001B[0mpath\u001B[0m\u001B[0;34m.\u001B[0m\u001B[0mappend\u001B[0m\u001B[0;34m(\u001B[0m\u001B[0mparentdir\u001B[0m\u001B[0;34m)\u001B[0m\u001B[0;34m\u001B[0m\u001B[0;34m\u001B[0m\u001B[0m\n",
      "\u001B[0;31mNameError\u001B[0m: name '__file__' is not defined"
     ]
    }
   ],
   "source": [
    "%load_ext autoreload\n",
    "%autoreload 2"
   ]
  },
  {
   "cell_type": "code",
   "execution_count": 6,
   "metadata": {},
   "outputs": [
    {
     "name": "stdout",
     "output_type": "stream",
     "text": [
      "['/Users/pawelgolab/IdeaProjects/mosaic-maker-opencv-python/notebooks', '/Users/pawelgolab/IdeaProjects/mosaic-maker-opencv-python/notebooks', '/usr/local/Cellar/python@3.9/3.9.2_1/Frameworks/Python.framework/Versions/3.9/lib/python39.zip', '/usr/local/Cellar/python@3.9/3.9.2_1/Frameworks/Python.framework/Versions/3.9/lib/python3.9', '/usr/local/Cellar/python@3.9/3.9.2_1/Frameworks/Python.framework/Versions/3.9/lib/python3.9/lib-dynload', '', '/Users/pawelgolab/.local/share/virtualenvs/mosaic-maker-opencv-python-DpeUWA3x/lib/python3.9/site-packages', '/Users/pawelgolab/.local/share/virtualenvs/mosaic-maker-opencv-python-DpeUWA3x/lib/python3.9/site-packages/IPython/extensions', '/Users/pawelgolab/.ipython', '/Users/pawelgolab/IdeaProjects/mosaic-maker-opencv-python']\n"
     ]
    }
   ],
   "source": [
    "import os, sys\n",
    "currentdir = os.path.dirname(os.path.realpath(\"__file__\"))\n",
    "parentdir = os.path.dirname(currentdir)\n",
    "sys.path.append(parentdir)"
   ]
  },
  {
   "cell_type": "markdown",
   "metadata": {},
   "source": [
    "# 1. Generating test images\n",
    "\n",
    "Before we begin working on mosaics generation, we'll need test data. It's often\n",
    "a good practice to create an artificial dataset for some parts of algorithm\n",
    "development.\n",
    "\n",
    "The artificial test set has one significant advantage over real-world data: we\n",
    "control all factors influencing results specification. Such control allows\n",
    "for building specific tests for different aspects of the algorithm we'd like to\n",
    "design.\n",
    "\n",
    "In our case, the test set generation will also be an excellent opportunity to get\n",
    "acquainted with *OpenCV* drawing functions and *Numpy* arrays.\n",
    "\n",
    "\n",
    "In the following section, we'll be working on the `utils/test_images_generator`\n",
    "directory.\n",
    "\n",
    "The target image will contain a set of randomly generated shapes in random\n",
    "colors. You can see an example of such an image below.\n",
    "\n",
    "![title](assets/1-test-images/test-target.jpg)\n",
    "\n",
    "First, we'll try to recreate these images using random square splices of the\n",
    "generated images.\n",
    "\n",
    "![title](assets/1-test-images/source-1.jpg) | ![title](assets/1-test-images/source-2.jpg) | ![title](assets/1-test-images/source-3.jpg) | ![title](assets/1-test-images/source-4.jpg) | ![title](assets/1-test-images/source-5.jpg)\n",
    "------------------------------------------|------------------------------------------|------------------------------------------|------------------------------------------|------------------------------------------\n",
    "\n",
    "As a mosaic result, we'll be aiming for something along these lines:\n",
    "\n",
    "![title](assets/1-test-images/test-output.jpg)\n",
    "\n",
    "It's not perfect, of course, as we won't have exact matches to image parts we'll\n",
    "want to recreate.\n",
    "\n",
    "Let's get to work."
   ]
  },
  {
   "cell_type": "code",
   "execution_count": 8,
   "metadata": {
    "pycharm": {
     "is_executing": false,
     "name": "#%%\n"
    }
   },
   "outputs": [],
   "source": [
    "import cv2\n",
    "from matplotlib import pyplot as plt"
   ]
  },
  {
   "cell_type": "code",
   "execution_count": 9,
   "metadata": {
    "pycharm": {
     "is_executing": false,
     "name": "#%%\n"
    }
   },
   "outputs": [],
   "source": [
    "from utils.test_images_generator.random_image_generator import generate_random_image"
   ]
  },
  {
   "cell_type": "code",
   "execution_count": 10,
   "metadata": {
    "pycharm": {
     "is_executing": false,
     "name": "#%%\n"
    }
   },
   "outputs": [
    {
     "data": {
      "text/plain": [
       "<matplotlib.image.AxesImage at 0x125d7a430>"
      ]
     },
     "execution_count": 10,
     "metadata": {},
     "output_type": "execute_result"
    },
    {
     "data": {
      "image/png": "[encoded data removed]",
      "text/plain": [
       "<Figure size 432x288 with 1 Axes>"
      ]
     },
     "metadata": {
      "needs_background": "light"
     },
     "output_type": "display_data"
    }
   ],
   "source": [
    "generated_image = generate_random_image(500, 500)\n",
    "plt.imshow(cv2.cvtColor(generated_image, cv2.COLOR_BGR2RGB))"
   ]
  },
  {
   "cell_type": "markdown",
   "metadata": {},
   "source": [
    "Above you should see a black square. As a first step, let's try to make it\n",
    "white.\n",
    "\n",
    "Take a look at the `generate_random_image` function. You will see that we are\n",
    "using *Numpy* function `zeros` that is creating an array of a given shape. In\n",
    "our case, the shape will be `(height, width, 3)` - the last dimension is used for\n",
    "color-coding. As we are filling an array with zeros, the resulting image is\n",
    "black.\n",
    "\n",
    "In order to make numpy arrays compatible with *OpenCV*, we're setting\n",
    "`dtype=np.uint8`.\n",
    "\n",
    "Read about *Numpy*'s\n",
    "[full function](https://numpy.org/doc/1.18/reference/generated/numpy.full.html)\n",
    "and use it to create an image filled with the white color (`(255, 255, 255)`).\n"
   ]
  },
  {
   "cell_type": "code",
   "execution_count": 11,
   "metadata": {
    "pycharm": {
     "is_executing": false,
     "name": "#%%\n"
    }
   },
   "outputs": [
    {
     "data": {
      "text/plain": [
       "<matplotlib.image.AxesImage at 0x125e59af0>"
      ]
     },
     "execution_count": 11,
     "metadata": {},
     "output_type": "execute_result"
    },
    {
     "data": {
      "image/png": "[encoded data removed]",
      "text/plain": [
       "<Figure size 432x288 with 1 Axes>"
      ]
     },
     "metadata": {
      "needs_background": "light"
     },
     "output_type": "display_data"
    }
   ],
   "source": [
    "generated_image = generate_random_image(500, 500)\n",
    "plt.imshow(cv2.cvtColor(generated_image, cv2.COLOR_BGR2RGB))"
   ]
  },
  {
   "cell_type": "markdown",
   "metadata": {},
   "source": [
    "After applying changes to the `generate_random_image` file you should see\n",
    "a white image after running the line above. Now let's work on shapes.\n",
    "\n",
    "Read about\n",
    "[`randint`](https://numpy.org/doc/1.18/reference/random/generated/numpy.random.randint.html)\n",
    "and\n",
    "[`choice`](https://numpy.org/doc/1.18/reference/random/generated/numpy.random.choice.html)\n",
    "functions and use them to generate a random list from `AVAILABLE_SHAPES_DICT`\n",
    "dict values."
   ]
  },
  {
   "cell_type": "code",
   "execution_count": 12,
   "metadata": {
    "pycharm": {
     "is_executing": false,
     "name": "#%%\n"
    }
   },
   "outputs": [
    {
     "data": {
      "text/plain": [
       "{'LINE': 'LINE',\n",
       " 'TRIANGLE': 'TRIANGLE',\n",
       " 'RECTANGLE': 'RECTANGLE',\n",
       " 'CIRCLE': 'CIRCLE'}"
      ]
     },
     "execution_count": 12,
     "metadata": {},
     "output_type": "execute_result"
    }
   ],
   "source": [
    "from utils.test_images_generator.generator_config import AVAILABLE_SHAPES_DICT\n",
    "AVAILABLE_SHAPES_DICT"
   ]
  },
  {
   "cell_type": "markdown",
   "metadata": {},
   "source": [
    "First, pick a random integer between `5` and `10` using `randint` function and\n",
    "generate a list of this length filled with `AVAILABLE_SHAPES_DICT` values using\n",
    "`choice`.\n",
    "\n",
    "The generated image will be white as drawing functions are not\n",
    "implemented yet."
   ]
  },
  {
   "cell_type": "code",
   "execution_count": 13,
   "metadata": {
    "pycharm": {
     "is_executing": false,
     "name": "#%%\n"
    }
   },
   "outputs": [
    {
     "data": {
      "text/plain": [
       "<matplotlib.image.AxesImage at 0x125eb4eb0>"
      ]
     },
     "execution_count": 13,
     "metadata": {},
     "output_type": "execute_result"
    },
    {
     "data": {
      "image/png": "[encoded data removed]",
      "text/plain": [
       "<Figure size 432x288 with 1 Axes>"
      ]
     },
     "metadata": {
      "needs_background": "light"
     },
     "output_type": "display_data"
    }
   ],
   "source": [
    "generated_image = generate_random_image(500, 500)\n",
    "plt.imshow(cv2.cvtColor(generated_image, cv2.COLOR_BGR2RGB))"
   ]
  },
  {
   "cell_type": "markdown",
   "metadata": {},
   "source": [
    "Let's modify `_draw_random_line`, `_draw_random_rectangle`, and\n",
    "`_draw_random_circle` to make them draw shapes. We'll leave\n",
    "`_draw_random_triangle` for later.\n",
    "\n",
    "Read `OpenCV`'s [drawing functions tutorial](https://docs.opencv.org/master/dc/da5/tutorial_py_drawing_functions.html).\n",
    "\n",
    "Remember that all of the required functions like `cv2.line` modify\n",
    "the original image.\n",
    "\n",
    "In `generator_utils` you will find two helper functions: `generate_random_color`\n",
    "and `generate_random_image_points`.\n",
    "\n",
    "Current `generate_random_color` version is returning black color every time, but we'll\n",
    "tackle this later.\n"
   ]
  },
  {
   "cell_type": "code",
   "execution_count": 14,
   "metadata": {
    "pycharm": {
     "is_executing": false,
     "name": "#%%\n"
    }
   },
   "outputs": [],
   "source": [
    "from utils.test_images_generator.generator_utils import generate_random_color, generate_random_image_points"
   ]
  },
  {
   "cell_type": "code",
   "execution_count": 15,
   "metadata": {
    "pycharm": {
     "is_executing": false,
     "name": "#%%\n"
    }
   },
   "outputs": [
    {
     "data": {
      "text/plain": [
       "(0, 0, 0)"
      ]
     },
     "execution_count": 15,
     "metadata": {},
     "output_type": "execute_result"
    }
   ],
   "source": [
    "generate_random_color()"
   ]
  },
  {
   "cell_type": "code",
   "execution_count": 16,
   "metadata": {
    "pycharm": {
     "is_executing": false,
     "name": "#%%\n"
    }
   },
   "outputs": [
    {
     "data": {
      "text/plain": [
       "[(21, 328), (6, 94), (102, 404), (416, 229), (108, 332)]"
      ]
     },
     "execution_count": 16,
     "metadata": {},
     "output_type": "execute_result"
    }
   ],
   "source": [
    "generate_random_image_points(generated_image, 5)"
   ]
  },
  {
   "cell_type": "markdown",
   "metadata": {},
   "source": [
    "The code block below should display black shapes after implementing helper\n",
    "function bodies.\n"
   ]
  },
  {
   "cell_type": "code",
   "execution_count": 17,
   "metadata": {
    "pycharm": {
     "is_executing": false,
     "name": "#%%\n"
    }
   },
   "outputs": [
    {
     "data": {
      "text/plain": [
       "<matplotlib.image.AxesImage at 0x125f09e50>"
      ]
     },
     "execution_count": 17,
     "metadata": {},
     "output_type": "execute_result"
    },
    {
     "data": {
      "image/png": "[encoded data removed]",
      "text/plain": [
       "<Figure size 432x288 with 1 Axes>"
      ]
     },
     "metadata": {
      "needs_background": "light"
     },
     "output_type": "display_data"
    }
   ],
   "source": [
    "generated_image = generate_random_image(500, 500)\n",
    "plt.imshow(cv2.cvtColor(generated_image, cv2.COLOR_BGR2RGB))"
   ]
  },
  {
   "cell_type": "markdown",
   "metadata": {},
   "source": [
    "Let's fix `generate_random_color` function to make images more readable.\n",
    "Again, use the `choice` function to pick a random color from\n",
    "`AVAILABLE_COLORS_DICT`."
   ]
  },
  {
   "cell_type": "code",
   "execution_count": 18,
   "metadata": {
    "pycharm": {
     "is_executing": false,
     "name": "#%%\n"
    }
   },
   "outputs": [
    {
     "data": {
      "text/plain": [
       "{'RED': (0, 0, 255),\n",
       " 'GREEN': (0, 255, 0),\n",
       " 'BLUE': (255, 0, 0),\n",
       " 'YELLOW': (0, 255, 255),\n",
       " 'PURPLE': (255, 0, 255),\n",
       " 'CYAN': (255, 255, 0)}"
      ]
     },
     "execution_count": 18,
     "metadata": {},
     "output_type": "execute_result"
    }
   ],
   "source": [
    "from utils.test_images_generator.generator_config import AVAILABLE_COLORS_DICT\n",
    "AVAILABLE_COLORS_DICT"
   ]
  },
  {
   "cell_type": "code",
   "execution_count": 19,
   "metadata": {
    "pycharm": {
     "is_executing": false,
     "name": "#%%\n"
    }
   },
   "outputs": [
    {
     "data": {
      "text/plain": [
       "(0, 0, 0)"
      ]
     },
     "execution_count": 19,
     "metadata": {},
     "output_type": "execute_result"
    }
   ],
   "source": [
    "generate_random_color()"
   ]
  },
  {
   "cell_type": "code",
   "execution_count": 20,
   "metadata": {
    "pycharm": {
     "is_executing": false,
     "name": "#%%\n"
    }
   },
   "outputs": [
    {
     "data": {
      "text/plain": [
       "<matplotlib.image.AxesImage at 0x125f60a60>"
      ]
     },
     "execution_count": 20,
     "metadata": {},
     "output_type": "execute_result"
    },
    {
     "data": {
      "image/png": "[encoded data removed]",
      "text/plain": [
       "<Figure size 432x288 with 1 Axes>"
      ]
     },
     "metadata": {
      "needs_background": "light"
     },
     "output_type": "display_data"
    }
   ],
   "source": [
    "generated_image = generate_random_image(500, 500)\n",
    "plt.imshow(cv2.cvtColor(generated_image, cv2.COLOR_BGR2RGB))"
   ]
  },
  {
   "cell_type": "markdown",
   "metadata": {},
   "source": [
    "Much better. The last shape to tackle is a triangle. To generate it, use the\n",
    "[`fillConvexPolly`](https://docs.opencv.org/master/d6/d6e/group__imgproc__draw.html#ga3069baf93b51565e386c8e591f8418e6)\n",
    "function.\n",
    "\n",
    "You will need to use\n",
    "the [`reshape`](https://numpy.org/doc/1.18/reference/generated/numpy.reshape.html)\n",
    "function on the list returned by `generate_random_image_points` to make it\n",
    "compatible with `fillConvexPolly` - use `(-1, 1, 2)` as a shape attribute to\n",
    "make it work."
   ]
  },
  {
   "cell_type": "code",
   "execution_count": 21,
   "metadata": {
    "pycharm": {
     "is_executing": false,
     "name": "#%%\n"
    }
   },
   "outputs": [
    {
     "data": {
      "text/plain": [
       "<matplotlib.image.AxesImage at 0x125fb6610>"
      ]
     },
     "execution_count": 21,
     "metadata": {},
     "output_type": "execute_result"
    },
    {
     "data": {
      "image/png": "[encoded data removed]",
      "text/plain": [
       "<Figure size 432x288 with 1 Axes>"
      ]
     },
     "metadata": {
      "needs_background": "light"
     },
     "output_type": "display_data"
    }
   ],
   "source": [
    "generated_image = generate_random_image(500, 500)\n",
    "plt.imshow(cv2.cvtColor(generated_image, cv2.COLOR_BGR2RGB))"
   ]
  },
  {
   "cell_type": "markdown",
   "metadata": {},
   "source": [
    "You can use now `generate_target_image` function from `generate_images`\n",
    "to generate and save a new target image in the `assets` directory.\n",
    "\n",
    "Let's move to random sources generation."
   ]
  },
  {
   "cell_type": "markdown",
   "metadata": {},
   "source": [
    "## 1.2 Generating source images\n",
    "\n",
    "The general idea for the source images generation is to slice\n",
    "`generate_target_image` results into small squares.\n",
    "\n",
    "For most of the cases squares generated this way will be filled with one\n",
    "color - either white image background or shape content. As we want\n",
    "generated slices to be interesting, we will generate such flat images first\n",
    "and then pick slices containing something more than a flat color.\n",
    "\n",
    "In this chapter, we'll be working on `generate_patches_set` function\n",
    "from `random_image_generator`. Currently, it only generates black squares\n",
    "and stores them in the `assets` directory."
   ]
  },
  {
   "cell_type": "code",
   "execution_count": 27,
   "metadata": {
    "pycharm": {
     "is_executing": false,
     "name": "#%%\n"
    }
   },
   "outputs": [],
   "source": [
    "from utils.test_images_generator.generate_images import generate_patches_set, generate_target_image\n",
    "from config import PATCH_SIZE"
   ]
  },
  {
   "cell_type": "code",
   "execution_count": 28,
   "metadata": {
    "pycharm": {
     "is_executing": false,
     "name": "#%%\n"
    }
   },
   "outputs": [
    {
     "name": "stdout",
     "output_type": "stream",
     "text": [
      "GENERATED 0300 OF 300 PATCHES"
     ]
    }
   ],
   "source": [
    "generate_patches_set('test', PATCH_SIZE, 300, 900, 500)"
   ]
  },
  {
   "cell_type": "markdown",
   "metadata": {
    "pycharm": {
     "name": "#%% md\n"
    }
   },
   "source": [
    "Let's start by generating flat color images. Again, the `full` function will\n",
    "come in handy. Remember to add a white color to `AVAILABLE_COLORS_DICT` values."
   ]
  },
  {
   "cell_type": "code",
   "execution_count": 29,
   "metadata": {
    "pycharm": {
     "is_executing": false,
     "name": "#%%\n"
    }
   },
   "outputs": [
    {
     "name": "stdout",
     "output_type": "stream",
     "text": [
      "GENERATED 0300 OF 300 PATCHES"
     ]
    }
   ],
   "source": [
    "generate_patches_set('test', PATCH_SIZE, 300, 900, 500)"
   ]
  },
  {
   "cell_type": "markdown",
   "metadata": {
    "pycharm": {
     "name": "#%% md\n"
    }
   },
   "source": [
    "To generate the rest of the patches, analyze main `generate_patches_set`\n",
    "loop. Instead of assigning black square to `patch`, we'd like to select\n",
    "a square from `generated_image` at `x, y` position of `patch_size` size.\n",
    "Basic *Numpy*'s selecting methods will come in handy here.\n",
    "\n",
    "You can see how we make sure that the selected image isn't just a flat\n",
    "square.\n",
    "\n",
    "The implemented method of generating source images is quite blunt, but it\n",
    "serves its purpose.\n",
    "\n",
    "After applying changes, `generate_patches_set` should generate nice, diverse\n",
    "patches, starting with seven flat color squares."
   ]
  },
  {
   "cell_type": "code",
   "execution_count": 30,
   "metadata": {
    "pycharm": {
     "is_executing": false,
     "name": "#%%\n"
    }
   },
   "outputs": [
    {
     "name": "stdout",
     "output_type": "stream",
     "text": [
      "GENERATED 0300 OF 300 PATCHES"
     ]
    }
   ],
   "source": [
    "generate_patches_set('test', PATCH_SIZE, 300, 900, 500)"
   ]
  },
  {
   "cell_type": "markdown",
   "metadata": {},
   "source": [
    "Now we only have to generate our target image for further work"
   ]
  },
  {
   "cell_type": "code",
   "execution_count": 32,
   "metadata": {},
   "outputs": [],
   "source": [
    "generate_target_image('test-target.jpg', 900, 500)"
   ]
  }
 ],
 "metadata": {
  "kernelspec": {
   "display_name": "Python 3",
   "language": "python",
   "name": "python3"
  },
  "language_info": {
   "codemirror_mode": {
    "name": "ipython",
    "version": 3
   },
   "file_extension": ".py",
   "mimetype": "text/x-python",
   "name": "python",
   "nbconvert_exporter": "python",
   "pygments_lexer": "ipython3",
   "version": "3.9.2"
  }
 },
 "nbformat": 4,
 "nbformat_minor": 4
}