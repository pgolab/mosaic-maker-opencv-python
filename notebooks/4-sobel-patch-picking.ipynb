{
 "cells": [
  {
   "cell_type": "code",
   "execution_count": null,
   "metadata": {
    "pycharm": {
     "is_executing": false,
     "name": "#%%\n"
    }
   },
   "outputs": [],
   "source": [
    "%load_ext autoreload\n",
    "%autoreload 2"
   ]
  },
  {
   "cell_type": "markdown",
   "metadata": {},
   "source": [
    "# 4. Sobel patch picking\n",
    "\n",
    "After all preparations from previous chapters, we can create our first mosaic\n",
    "building algorithm. We will focus purely on matching images edges.\n",
    "\n",
    "To work purely on Sobel descriptor, set config variables as follows:\n",
    "```python\n",
    "USE_SOBEL_DESCRIPTOR = True\n",
    "USE_HISTOGRAM_DESCRIPTOR = False\n",
    "```\n",
    "\n",
    "We will work on two classes:\n",
    "  - `Patch` from `mosaic_maker.patch.patch` module\n",
    "  - `PatchPicker` from `mosaic_maker.mosaic.patch_picker` module\n",
    "  \n",
    "The `PatchPicker` is the class responsible for loading and searching the patches \n",
    "database. Most of its content is just loading source images. We will focus on\n",
    "the `pick_patch_for` method that will handle the logic of comparing different\n",
    "patches and finding the best candidate.\n",
    "\n",
    "Let's start with the descriptor."
   ]
  },
  {
   "cell_type": "code",
   "execution_count": null,
   "metadata": {
    "pycharm": {
     "is_executing": false,
     "name": "#%%\n"
    }
   },
   "outputs": [],
   "source": [
    "import cv2\n",
    "from matplotlib import pyplot as plt\n",
    "from mosaic_maker.patch.patch import Patch\n",
    "from config import PATCH_SIZE, PROJECT_ROOT"
   ]
  },
  {
   "cell_type": "code",
   "execution_count": null,
   "metadata": {
    "pycharm": {
     "is_executing": false,
     "name": "#%%\n"
    }
   },
   "outputs": [],
   "source": [
    "test_source = cv2.imread((PROJECT_ROOT / 'assets/indexed-sources/test/images/0010.jpg').as_posix())\n",
    "test_source_sobel = cv2.imread(\n",
    "    (PROJECT_ROOT / 'assets/indexed-sources/test/sobel-images/0010.jpg').as_posix(), \n",
    "    cv2.IMREAD_GRAYSCALE\n",
    ")\n",
    "_, grid = plt.subplots(1, 2)\n",
    "grid[0].imshow(cv2.cvtColor(test_source, cv2.COLOR_BGR2RGB))\n",
    "grid[1].imshow(test_source_sobel, cmap='gray')"
   ]
  },
  {
   "cell_type": "code",
   "execution_count": null,
   "metadata": {
    "pycharm": {
     "is_executing": false,
     "name": "#%%\n"
    }
   },
   "outputs": [],
   "source": [
    "test_patch = Patch('test', test_source, test_source_sobel)\n",
    "test_patch._calculate_features()"
   ]
  },
  {
   "cell_type": "markdown",
   "metadata": {},
   "source": [
    "As you can see, the patch is not calculating any features for now. Let's change\n",
    "`_calculate_features` method. Focus on the part running when \n",
    "`USE_SOBEL_DESCRIPTOR` is set to `True`.\n",
    "\n",
    "Our descriptor will be pretty simple: as each Sobel image pixel is\n",
    "described by a value from `0-255` range, we will use the Sobel image itself as a\n",
    "descriptor. We will jus have to flatten it to the one-dimensional array and \n",
    "normalize the result.\n",
    "\n",
    "You will need \n",
    "[`flatten`](https://docs.scipy.org/doc/numpy/reference/generated/numpy.ndarray.flatten.html)\n",
    "function from `Numpy` and \n",
    "[`normalize`](https://docs.opencv.org/master/d2/de8/group__core__array.html#ga87eef7ee3970f86906d69a92cbf064bd)\n",
    "from `OpenCV`.\n",
    "\n",
    "After calculating a vector, append result set to the features array.\n",
    "\n",
    "**Sidenote** You can also normalize vector using `Numpy` algebraic\n",
    "operators. "
   ]
  },
  {
   "cell_type": "code",
   "execution_count": null,
   "metadata": {
    "pycharm": {
     "is_executing": false,
     "name": "#%%\n"
    }
   },
   "outputs": [],
   "source": [
    "test_patch._calculate_features()"
   ]
  },
  {
   "cell_type": "code",
   "execution_count": null,
   "metadata": {
    "pycharm": {
     "is_executing": false,
     "name": "#%%\n"
    }
   },
   "outputs": [],
   "source": [
    "test_patch._calculate_features()[test_patch._calculate_features() > 0]"
   ]
  },
  {
   "cell_type": "markdown",
   "metadata": {},
   "source": [
    "Cool. After making feature descriptor work, we'll have to rerun indexing to\n",
    "make `PatchPicker` work as it uses data from CSV file from `assets` directory."
   ]
  },
  {
   "cell_type": "code",
   "execution_count": null,
   "metadata": {
    "pycharm": {
     "is_executing": false,
     "name": "#%%\n"
    }
   },
   "outputs": [],
   "source": [
    "from mosaic_maker.index_assets import index_images\n",
    "from config import IMAGES_SET\n",
    "index_images(IMAGES_SET, PATCH_SIZE)"
   ]
  },
  {
   "cell_type": "markdown",
   "metadata": {},
   "source": [
    "Check if generated CSV file contains feature descriptors to make sure everything\n",
    "is ok.\n"
   ]
  },
  {
   "cell_type": "markdown",
   "metadata": {
    "pycharm": {
     "name": "#%% md\n"
    }
   },
   "source": [
    "Ok, we have a descriptor. Now its time to match vectors. \n",
    "\n",
    "Matching happens in `pick_patch_for` method of `PatchPicker` class. The Method \n",
    "has Two parts:\n",
    "  1. distances between target patch and patches from the database are \n",
    "  calculated\n",
    "  2. patch with minimal distance is selected\n",
    "  \n",
    "Method execution varies depending on `USE_HISTOGRAM_DESCRIPTOR` and\n",
    "`USE_SOBEL_DESCRIPTOR` flags values. We will focus on the case when\n",
    "`USE_SOBEL_DESCRIPTOR` equals `True` and `USE_HISTOGRAM_DESCRIPTOR`\n",
    "is `False`.\n",
    "\n",
    "\n",
    "Patch selection, in this case, is pretty straightforward and only requires \n",
    "applying [`argmin`](https://docs.scipy.org/doc/numpy/reference/generated/numpy.argmin.html).\n",
    "\n",
    "For distance, euclidean measure works great. You can implement it using basic\n",
    "`Numpy` operators. You can use `sobel_vector_length` value to extract the Sobel\n",
    "part of the features vector (in future, it will be combined with histogram \n",
    "values). "
   ]
  },
  {
   "cell_type": "code",
   "execution_count": null,
   "metadata": {
    "pycharm": {
     "is_executing": false,
     "name": "#%%\n"
    }
   },
   "outputs": [],
   "source": [
    "from mosaic_maker.mosaic.patch_picker import PatchPicker\n",
    "\n",
    "patch_picker = PatchPicker('test', PROJECT_ROOT / 'assets/indexed-sources/test')"
   ]
  },
  {
   "cell_type": "code",
   "execution_count": null,
   "metadata": {
    "pycharm": {
     "is_executing": false,
     "name": "#%%\n"
    }
   },
   "outputs": [],
   "source": [
    "test_patch = Patch('test', test_source, test_source_sobel)\n",
    "selected_patch = patch_picker.pick_patch_for(test_patch)\n",
    "_, grid = plt.subplots(2, 2)\n",
    "grid[0, 0].imshow(cv2.cvtColor(test_source, cv2.COLOR_BGR2RGB))\n",
    "grid[0, 1].imshow(test_source_sobel, cmap='gray')\n",
    "grid[1, 0].imshow(cv2.cvtColor(selected_patch.image, cv2.COLOR_BGR2RGB))\n",
    "grid[1, 1].imshow(selected_patch.sobel_image, cmap='gray')"
   ]
  },
  {
   "cell_type": "markdown",
   "metadata": {
    "pycharm": {
     "is_executing": true,
     "name": "#%% md\n"
    }
   },
   "source": [
    "As we are targeting patch from the source images directory, the Sobel picture \n",
    "match should be perfect. Colors may differ.\n",
    "\n",
    "Let's see how it will work for the whole mosaic. Again, the Sobel image should \n",
    "be a good resemblance to the original. Pattern may be, however, not visible on\n",
    "the color image. This shows how important information for our vision \n",
    "the colors provide. \n",
    "\n",
    "Running the next cell may take a while."
   ]
  },
  {
   "cell_type": "code",
   "execution_count": null,
   "metadata": {
    "pycharm": {
     "is_executing": false,
     "name": "#%%\n"
    }
   },
   "outputs": [],
   "source": [
    "import numpy as np\n",
    "from mosaic_maker.mosaic.mosaic_image import MosaicImage\n",
    "\n",
    "image_path = PROJECT_ROOT / 'assets/test-target.jpg'\n",
    "test_image = cv2.imread(image_path.as_posix())\n",
    "mosaic_image = MosaicImage(test_image, PATCH_SIZE, patch_picker)\n",
    "\n",
    "target_image_copy = mosaic_image.target_image.copy()\n",
    "target_sobel_image_copy = mosaic_image.target_sobel_image.copy()\n",
    "mosaic = np.zeros(mosaic_image.target_image.shape, np.uint8)\n",
    "sobel_mosaic = np.zeros(mosaic_image.target_sobel_image.shape, np.uint8)\n",
    "\n",
    "(height, width) = target_image_copy.shape[:2]\n",
    "mosaic_image._compose_mosaic_for(width, height, \n",
    "                                 mosaic, sobel_mosaic, \n",
    "                                 target_image_copy, target_sobel_image_copy)\n",
    "\n",
    "_, grid = plt.subplots(2, 2, figsize=(20, 10.3))\n",
    "grid[0, 0].imshow(cv2.cvtColor(mosaic_image.target_image, cv2.COLOR_BGR2RGB))\n",
    "grid[0, 1].imshow(mosaic_image.target_sobel_image, cmap='gray')\n",
    "grid[1, 0].imshow(cv2.cvtColor(mosaic, cv2.COLOR_BGR2RGB))\n",
    "grid[1, 1].imshow(sobel_mosaic, cmap='gray')"
   ]
  },
  {
   "cell_type": "markdown",
   "metadata": {
    "pycharm": {
     "name": "#%% md\n"
    }
   },
   "source": [
    "The result should be similar to the one below.\n",
    "\n",
    "\n",
    "![title](assets/4-sobel-picking/sobel-result.png)\n"
   ]
  }
 ],
 "metadata": {
  "kernelspec": {
   "display_name": "Python 3",
   "language": "python",
   "name": "python3"
  },
  "language_info": {
   "codemirror_mode": {
    "name": "ipython",
    "version": 3
   },
   "file_extension": ".py",
   "mimetype": "text/x-python",
   "name": "python",
   "nbconvert_exporter": "python",
   "pygments_lexer": "ipython3",
   "version": "3.7.5"
  },
  "pycharm": {
   "stem_cell": {
    "cell_type": "raw",
    "metadata": {
     "collapsed": false
    },
    "source": []
   }
  }
 },
 "nbformat": 4,
 "nbformat_minor": 1
}
