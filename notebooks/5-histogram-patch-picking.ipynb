{
 "cells": [
  {
   "cell_type": "code",
   "execution_count": null,
   "metadata": {
    "pycharm": {
     "is_executing": false,
     "name": "#%%\n"
    }
   },
   "outputs": [],
   "source": [
    "%load_ext autoreload\n",
    "%autoreload 2"
   ]
  },
  {
   "cell_type": "markdown",
   "metadata": {},
   "source": [
    "# 5. Histogram patch picking\n",
    "\n",
    "In this chapter, we will work on matching images using histograms. As in chapter 4,\n",
    "we'll be working on the following classes:\n",
    "  - `Patch` from `mosaic_maker.patch.patch` module\n",
    "  - `PatchPicker` from `mosaic_maker.mosaic.patch_picker` module\n",
    " \n",
    "Set config variables as follows, to work purely on histogram descriptor:\n",
    "```python\n",
    "USE_SOBEL_DESCRIPTOR = False\n",
    "USE_HISTOGRAM_DESCRIPTOR = True\n",
    "```\n",
    "\n",
    "We will use a similar idea as in the image search algorithm presented in the \n",
    "`OpenCV` introduction - we will use 3d histogram as an image descriptor. For a \n",
    "better fit, we will divide the image into the grid and calculate the histogram \n",
    "for each of the grid cells separately.\n",
    "\n",
    "You can find two values in config responsible for the grid and histogram shapes:\n",
    "`HISTOGRAM_GRID_SHAPE` and `HISTOGRAM_BUCKETS`.\n",
    "\n",
    "Again, let's start with the descriptor implementation."
   ]
  },
  {
   "cell_type": "code",
   "execution_count": null,
   "metadata": {
    "pycharm": {
     "is_executing": false,
     "name": "#%%\n"
    }
   },
   "outputs": [],
   "source": [
    "import cv2\n",
    "from matplotlib import pyplot as plt\n",
    "from mosaic_maker.patch.patch import Patch\n",
    "from config import PATCH_SIZE, PROJECT_ROOT"
   ]
  },
  {
   "cell_type": "code",
   "execution_count": null,
   "metadata": {
    "pycharm": {
     "is_executing": false,
     "name": "#%%\n"
    }
   },
   "outputs": [],
   "source": [
    "test_source = cv2.imread((PROJECT_ROOT / 'assets/indexed-sources/test/images/0010.jpg').as_posix())\n",
    "test_source_sobel = cv2.imread(\n",
    "    (PROJECT_ROOT / 'assets/indexed-sources/test/sobel-images/0010.jpg').as_posix(), \n",
    "    cv2.IMREAD_GRAYSCALE\n",
    ")\n",
    "_, grid = plt.subplots(1, 2)\n",
    "grid[0].imshow(cv2.cvtColor(test_source, cv2.COLOR_BGR2RGB))\n",
    "grid[1].imshow(test_source_sobel, cmap='gray')"
   ]
  },
  {
   "cell_type": "code",
   "execution_count": null,
   "metadata": {
    "pycharm": {
     "is_executing": false,
     "name": "#%%\n"
    }
   },
   "outputs": [],
   "source": [
    "test_patch = Patch('test', test_source, test_source_sobel)\n",
    "test_patch._calculate_features()"
   ]
  },
  {
   "cell_type": "markdown",
   "metadata": {
    "pycharm": {
     "is_executing": false,
     "name": "#%% md\n"
    }
   },
   "source": [
    "The result will be an empty array.\n",
    "\n",
    "Before implementing descriptor, read the following tutorials:\n",
    "  - [Changing Colorspaces](https://docs.opencv.org/master/df/d9d/tutorial_py_colorspaces.html)\n",
    "  - [Histograms - 1: Find, Plot, Analyze !!!](https://docs.opencv.org/master/d1/db7/tutorial_py_histogram_begins.html)\n",
    "  - [Histograms - 3: 2D Histograms](https://docs.opencv.org/master/dd/d0d/tutorial_py_2d_histogram.html)\n",
    "\n",
    "`_calculate_features` implements a loop that iterates over grid fields.\n",
    "`x0, y0, x1, y1` variables denote upper left and lower right corners of\n",
    "the currently processed grid cell. To calculate descriptor:\n",
    "  1. extract current grid cell from the source image\n",
    "  2. convert the cell to colorspace of your choice - colorspace will have a \n",
    "  significant influence on the final result\n",
    "  3. calculate histogram - 3d histogram is similar to 2d. Watch out on ranges - not all\n",
    "  colorspaces have values from the `0-255` range\n",
    "  4. normalize histogram\n",
    "  5. append flattened histogram to the features list\n",
    "  "
   ]
  },
  {
   "cell_type": "code",
   "execution_count": null,
   "metadata": {
    "pycharm": {
     "is_executing": false,
     "name": "#%%\n"
    }
   },
   "outputs": [],
   "source": [
    "test_patch._calculate_features()"
   ]
  },
  {
   "cell_type": "code",
   "execution_count": null,
   "metadata": {
    "pycharm": {
     "is_executing": false,
     "name": "#%%\n"
    }
   },
   "outputs": [],
   "source": [
    "test_patch._calculate_features()[test_patch._calculate_features() > 0]"
   ]
  },
  {
   "cell_type": "markdown",
   "metadata": {
    "pycharm": {
     "name": "#%% md\n"
    }
   },
   "source": [
    "As we updated descriptor, we'll have to rerun indexing to make `PatchPicker` work."
   ]
  },
  {
   "cell_type": "code",
   "execution_count": null,
   "metadata": {
    "pycharm": {
     "is_executing": false,
     "name": "#%%\n"
    }
   },
   "outputs": [],
   "source": [
    "from mosaic_maker.index_assets import index_images\n",
    "from config import IMAGES_SET\n",
    "index_images(IMAGES_SET, PATCH_SIZE)"
   ]
  },
  {
   "cell_type": "markdown",
   "metadata": {
    "pycharm": {
     "name": "#%% md\n"
    }
   },
   "source": [
    "Having a new descriptor work we can update `pick_patch_for` method of the \n",
    "`PatchPicker` class.\n",
    "\n",
    "As before, you will need to extract the histogram from feature vector -\n",
    "`HISTOGRAM_VECTOR_LENGTH` constant from config may come in handy. \n",
    "\n",
    "For the histograms comparison, us\n",
    "[`compareHist`](https://docs.opencv.org/master/d6/dc7/group__imgproc__hist.html#gaf4190090efa5c47cb367cf97a9a519bd)\n",
    "function. Experiment with different distances to find the best matching \n",
    "algorithm.\n",
    "\n",
    "As for choosing the best patch, use `argmin` as in the case of Sobel \n",
    "descriptors."
   ]
  },
  {
   "cell_type": "code",
   "execution_count": null,
   "metadata": {
    "pycharm": {
     "is_executing": false,
     "name": "#%%\n"
    }
   },
   "outputs": [],
   "source": [
    "from mosaic_maker.mosaic.patch_picker import PatchPicker\n",
    "\n",
    "patch_picker = PatchPicker('test', PROJECT_ROOT / 'assets/indexed-sources/test')"
   ]
  },
  {
   "cell_type": "code",
   "execution_count": null,
   "metadata": {
    "pycharm": {
     "is_executing": false,
     "name": "#%%\n"
    }
   },
   "outputs": [],
   "source": [
    "test_patch = Patch('test', test_source, test_source_sobel)\n",
    "selected_patch = patch_picker.pick_patch_for(test_patch)\n",
    "_, grid = plt.subplots(2, 2)\n",
    "grid[0, 0].imshow(cv2.cvtColor(test_source, cv2.COLOR_BGR2RGB))\n",
    "grid[0, 1].imshow(test_source_sobel, cmap='gray')\n",
    "grid[1, 0].imshow(cv2.cvtColor(selected_patch.image, cv2.COLOR_BGR2RGB))\n",
    "grid[1, 1].imshow(selected_patch.sobel_image, cmap='gray')"
   ]
  },
  {
   "cell_type": "markdown",
   "metadata": {
    "pycharm": {
     "name": "#%% md\n"
    }
   },
   "source": [
    "The match should be perfect if implemented correctly. Let's see how the \n",
    "algorithm behaves for the test image.\n",
    "\n",
    "The next block may run for a while. Running `compose_mosaic` main function \n",
    "may be more convenient for experimentation.\n"
   ]
  },
  {
   "cell_type": "code",
   "execution_count": null,
   "metadata": {
    "pycharm": {
     "is_executing": false,
     "name": "#%%\n"
    }
   },
   "outputs": [],
   "source": [
    "import numpy as np\n",
    "from mosaic_maker.mosaic.mosaic_image import MosaicImage\n",
    "\n",
    "image_path = PROJECT_ROOT / 'assets/test-target.jpg'\n",
    "test_image = cv2.imread(image_path.as_posix())\n",
    "mosaic_image = MosaicImage(test_image, PATCH_SIZE, patch_picker)\n",
    "\n",
    "target_image_copy = mosaic_image.target_image.copy()\n",
    "target_sobel_image_copy = mosaic_image.target_sobel_image.copy()\n",
    "mosaic = np.zeros(mosaic_image.target_image.shape, np.uint8)\n",
    "sobel_mosaic = np.zeros(mosaic_image.target_sobel_image.shape, np.uint8)\n",
    "\n",
    "(height, width) = target_image_copy.shape[:2]\n",
    "mosaic_image._compose_mosaic_for(width, height, \n",
    "                                 mosaic, sobel_mosaic, \n",
    "                                 target_image_copy, target_sobel_image_copy)\n",
    "\n",
    "_, grid = plt.subplots(2, 2, figsize=(20, 10.3))\n",
    "grid[0, 0].imshow(cv2.cvtColor(mosaic_image.target_image, cv2.COLOR_BGR2RGB))\n",
    "grid[0, 1].imshow(mosaic_image.target_sobel_image, cmap='gray')\n",
    "grid[1, 0].imshow(cv2.cvtColor(mosaic, cv2.COLOR_BGR2RGB))\n",
    "grid[1, 1].imshow(sobel_mosaic, cmap='gray')\n"
   ]
  },
  {
   "cell_type": "markdown",
   "metadata": {
    "pycharm": {
     "name": "#%% md\n"
    }
   },
   "source": [
    "The result should resemble original pretty well on a color image, but Sobel \n",
    "images will be way less aligned than before.\n",
    "\n",
    "\n",
    "You may need to iterate and test different histogram configurations and \n",
    "comparison functions to obtain the best results.\n",
    "\n",
    "![title](assets/5-histogram-picking/hist-result.png)"
   ]
  }
 ],
 "metadata": {
  "kernelspec": {
   "display_name": "Python 3",
   "language": "python",
   "name": "python3"
  },
  "language_info": {
   "codemirror_mode": {
    "name": "ipython",
    "version": 3
   },
   "file_extension": ".py",
   "mimetype": "text/x-python",
   "name": "python",
   "nbconvert_exporter": "python",
   "pygments_lexer": "ipython3",
   "version": "3.7.5"
  },
  "pycharm": {
   "stem_cell": {
    "cell_type": "raw",
    "metadata": {
     "collapsed": false
    },
    "source": []
   }
  }
 },
 "nbformat": 4,
 "nbformat_minor": 1
}
