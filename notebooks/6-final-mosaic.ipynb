{
 "cells": [
  {
   "cell_type": "markdown",
   "metadata": {
    "collapsed": true,
    "pycharm": {
     "name": "#%% md\n"
    }
   },
   "source": [
    "# 6. Final mosaic\n",
    "\n",
    "For the final part design and implement way of combining sobel and histogram\n",
    "differences into one measure.\n",
    "\n",
    "Set both config feature flags to `True`:\n",
    "```python\n",
    "USE_SOBEL_DESCRIPTOR = True\n",
    "USE_HISTOGRAM_DESCRIPTOR = True\n",
    "```\n",
    "\n",
    "Next run `index_assets` to index source images using both sobel and histogram\n",
    "descriptors.\n",
    "\n",
    "Update `pick_patch_for` so it chooses best patch using both `sobel_distances` \n",
    "and `histogram_distances` values.\n",
    "\n",
    "We suggest to pick patch candidates using `histogram_distances` first as for \n",
    "humans colors convey more value that edges and then from pick best candidate\n",
    "using `sobel_distances`.\n",
    "\n",
    "Remember that good parameters choice is almost as important as algorithm itself.\n",
    "\n",
    "Work on test image until you get satisfying results. Remember that we generate\n",
    "sources set that won't allow for perfect matching of source image and mosaic.\n",
    "\n",
    "For this part it will be best to use `compose_mosaic` instead of notebook as\n",
    "it gives intermediate results immediately. \n",
    "\n",
    "When you'll be satisfied with the result switch to real images by updating \n",
    "`config` `IMAGES_SET` and `TARGET_IMAGE` values. As pictures differ from abstract\n",
    "shapes, you may need to work on parameters and measures again to get best results. "
   ]
  }
 ],
 "metadata": {
  "kernelspec": {
   "display_name": "Python 3",
   "language": "python",
   "name": "python3"
  },
  "language_info": {
   "codemirror_mode": {
    "name": "ipython",
    "version": 2
   },
   "file_extension": ".py",
   "mimetype": "text/x-python",
   "name": "python",
   "nbconvert_exporter": "python",
   "pygments_lexer": "ipython2",
   "version": "2.7.6"
  },
  "pycharm": {
   "stem_cell": {
    "cell_type": "raw",
    "source": [],
    "metadata": {
     "collapsed": false
    }
   }
  }
 },
 "nbformat": 4,
 "nbformat_minor": 0
}
