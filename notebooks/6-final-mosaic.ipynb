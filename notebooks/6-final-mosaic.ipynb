{
 "cells": [
  {
   "cell_type": "markdown",
   "metadata": {
    "collapsed": true,
    "pycharm": {
     "name": "#%% md\n"
    }
   },
   "source": [
    "# 6. Final mosaic\n",
    "\n",
    "For the last part, design and implement a way of combining Sobel and histogram \n",
    "differences into one measure.\n",
    "\n",
    "Set both config feature flags to `True`:\n",
    "```python\n",
    "USE_SOBEL_DESCRIPTOR = True\n",
    "USE_HISTOGRAM_DESCRIPTOR = True\n",
    "```\n",
    "\n",
    "Next, run `index_assets` to index source images using both Sobel and histogram\n",
    "descriptors.\n",
    "\n",
    "Update `pick_patch_for`, so it chooses the best patch using both \n",
    "`sobel_distances` and `histogram_distances` values.\n",
    "\n",
    "We suggest picking patch candidates using `histogram_distances` first as colors\n",
    "convey more value for humans than edges and then select the best candidate using\n",
    "`sobel_distances`.\n",
    "\n",
    "Remember that the choice of that right parameter is almost as crucial as the \n",
    "algorithm itself.\n",
    "\n",
    "Work on test images until you get satisfying results. Remember that we generate\n",
    "sources set that won't allow for perfect matching of source image and mosaic.\n",
    "\n",
    "For this part, it will be best to use `compose_mosaic` instead of the notebook \n",
    "as it gives intermediate results immediately. \n",
    "\n",
    "When you'll be satisfied with the result, switch to real images by updating \n",
    "`config` `IMAGES_SET` and `TARGET_IMAGE` values. As pictures differ from \n",
    "abstract shapes, you may need to work on parameters and measures again to get \n",
    "the best results. "
   ]
  }
 ],
 "metadata": {
  "kernelspec": {
   "display_name": "Python 3",
   "language": "python",
   "name": "python3"
  },
  "language_info": {
   "codemirror_mode": {
    "name": "ipython",
    "version": 2
   },
   "file_extension": ".py",
   "mimetype": "text/x-python",
   "name": "python",
   "nbconvert_exporter": "python",
   "pygments_lexer": "ipython2",
   "version": "2.7.6"
  },
  "pycharm": {
   "stem_cell": {
    "cell_type": "raw",
    "source": [],
    "metadata": {
     "collapsed": false
    }
   }
  }
 },
 "nbformat": 4,
 "nbformat_minor": 0
}
